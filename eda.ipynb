{
 "cells": [
  {
   "cell_type": "markdown",
   "id": "7eef78e0-6712-471f-9790-47f2204a3128",
   "metadata": {},
   "source": [
    "# Exploratory Data Analysis (EDA)\n",
    "Load enhanced data, compute stats, missing values, correlations (text output)."
   ]
  },
  {
   "cell_type": "code",
   "execution_count": 1,
   "id": "a347b0f2-d875-4951-b9af-1e441de3bccc",
   "metadata": {},
   "outputs": [
    {
     "name": "stdout",
     "output_type": "stream",
     "text": [
      "Loaded enhanced data: (11130, 12)\n"
     ]
    }
   ],
   "source": [
    "import pandas as pd\n",
    "import numpy as np\n",
    "import seaborn as sns\n",
    "from pathlib import Path\n",
    "\n",
    "# Load enhanced CSV\n",
    "enhanced_csv = 'enhanced_stock_data.csv'\n",
    "if not Path(enhanced_csv).exists():\n",
    "    raise FileNotFoundError(f\"{enhanced_csv} not found. Run data_preprocessing_feature_engineering.ipynb first.\")\n",
    "combined_df = pd.read_csv(enhanced_csv)\n",
    "combined_df['Date'] = pd.to_datetime(combined_df['Date'])\n",
    "print(f\"Loaded enhanced data: {combined_df.shape}\")"
   ]
  },
  {
   "cell_type": "code",
   "execution_count": 2,
   "id": "f8430619-df25-4103-b6e3-2ad6bb995c9e",
   "metadata": {},
   "outputs": [
    {
     "name": "stdout",
     "output_type": "stream",
     "text": [
      "=== Basic Data Overview ===\n",
      "DataFrame Shape: (11130, 12)\n",
      "\n",
      "Column Names and Data Types:\n",
      "<class 'pandas.core.frame.DataFrame'>\n",
      "RangeIndex: 11130 entries, 0 to 11129\n",
      "Data columns (total 12 columns):\n",
      " #   Column         Non-Null Count  Dtype         \n",
      "---  ------         --------------  -----         \n",
      " 0   Date           11130 non-null  datetime64[ns]\n",
      " 1   Ticker         11130 non-null  object        \n",
      " 2   Open           11130 non-null  float64       \n",
      " 3   High           11130 non-null  float64       \n",
      " 4   Low            11130 non-null  float64       \n",
      " 5   Close          11130 non-null  float64       \n",
      " 6   Adj Close      11130 non-null  float64       \n",
      " 7   Volume         11130 non-null  float64       \n",
      " 8   Daily Return   11130 non-null  float64       \n",
      " 9   SMA_20         11130 non-null  float64       \n",
      " 10  SMA_50         11130 non-null  float64       \n",
      " 11  Volume Change  11130 non-null  float64       \n",
      "dtypes: datetime64[ns](1), float64(10), object(1)\n",
      "memory usage: 1.0+ MB\n",
      "None\n",
      "\n",
      "Summary Statistics (Numerical Columns):\n",
      "                                Date          Open          High  \\\n",
      "count                          11130  11130.000000  11130.000000   \n",
      "mean   2024-03-27 11:21:11.159029504   1854.494777   1854.494777   \n",
      "min              2022-09-26 00:00:00    403.200012    403.200012   \n",
      "25%              2023-06-26 00:00:00    957.200012    957.200012   \n",
      "50%              2024-03-27 12:00:00   1394.300049   1394.300049   \n",
      "75%              2024-12-30 00:00:00   3062.399902   3062.399902   \n",
      "max              2025-09-23 00:00:00   3657.600098   3657.600098   \n",
      "std                              NaN   1103.805695   1103.805695   \n",
      "\n",
      "                Low         Close     Adj Close        Volume  Daily Return  \\\n",
      "count  11130.000000  11130.000000  11130.000000  11130.000000  11130.000000   \n",
      "mean    1854.494777   1854.494777   1854.494777   1854.494777      0.169462   \n",
      "min      403.200012    403.200012    403.200012    403.200012     -0.808249   \n",
      "25%      957.200012    957.200012    957.200012    957.200012      0.000000   \n",
      "50%     1394.300049   1394.300049   1394.300049   1394.300049      0.000000   \n",
      "75%     3062.399902   3062.399902   3062.399902   3062.399902      0.000000   \n",
      "max     3657.600098   3657.600098   3657.600098   3657.600098      3.808283   \n",
      "std     1103.805695   1103.805695   1103.805695   1103.805695      0.633201   \n",
      "\n",
      "             SMA_20        SMA_50  Volume Change  \n",
      "count  11130.000000  11130.000000   11130.000000  \n",
      "mean    1694.373516   1695.187573       0.169462  \n",
      "min      403.200012    403.200012      -0.808249  \n",
      "25%      957.200012    957.200012       0.000000  \n",
      "50%     1389.800049   1389.800049       0.000000  \n",
      "75%     2522.199951   2522.199951       0.000000  \n",
      "max     3657.600098   3657.600098       3.808283  \n",
      "std     1010.407947   1018.091869       0.633201  \n",
      "\n",
      "First 5 Rows:\n",
      "        Date         Ticker         Open         High          Low  \\\n",
      "0 2022-09-26  ADANIPORTS.NS  3614.600098  3614.600098  3614.600098   \n",
      "1 2022-09-27  ADANIPORTS.NS  3614.600098  3614.600098  3614.600098   \n",
      "2 2022-09-28  ADANIPORTS.NS  3614.600098  3614.600098  3614.600098   \n",
      "3 2022-09-29  ADANIPORTS.NS  3614.600098  3614.600098  3614.600098   \n",
      "4 2022-09-30  ADANIPORTS.NS  3614.600098  3614.600098  3614.600098   \n",
      "\n",
      "         Close    Adj Close       Volume  Daily Return       SMA_20  \\\n",
      "0  3614.600098  3614.600098  3614.600098           0.0  3614.600098   \n",
      "1  3614.600098  3614.600098  3614.600098           0.0  3614.600098   \n",
      "2  3614.600098  3614.600098  3614.600098           0.0  3614.600098   \n",
      "3  3614.600098  3614.600098  3614.600098           0.0  3614.600098   \n",
      "4  3614.600098  3614.600098  3614.600098           0.0  3614.600098   \n",
      "\n",
      "        SMA_50  Volume Change  \n",
      "0  3614.600098            0.0  \n",
      "1  3614.600098            0.0  \n",
      "2  3614.600098            0.0  \n",
      "3  3614.600098            0.0  \n",
      "4  3614.600098            0.0  \n"
     ]
    }
   ],
   "source": [
    "print(\"=== Basic Data Overview ===\")\n",
    "print(f\"DataFrame Shape: {combined_df.shape}\")\n",
    "print(\"\\nColumn Names and Data Types:\")\n",
    "print(combined_df.info())\n",
    "print(\"\\nSummary Statistics (Numerical Columns):\")\n",
    "print(combined_df.describe())\n",
    "print(\"\\nFirst 5 Rows:\")\n",
    "print(combined_df.head())"
   ]
  },
  {
   "cell_type": "code",
   "execution_count": 3,
   "id": "1c5898ca-1df1-4f28-a5ae-dc76d409e398",
   "metadata": {},
   "outputs": [
    {
     "name": "stdout",
     "output_type": "stream",
     "text": [
      "\n",
      "=== Missing Values Analysis ===\n",
      "Missing Values per Column:\n",
      "Date             0\n",
      "Ticker           0\n",
      "Open             0\n",
      "High             0\n",
      "Low              0\n",
      "Close            0\n",
      "Adj Close        0\n",
      "Volume           0\n",
      "Daily Return     0\n",
      "SMA_20           0\n",
      "SMA_50           0\n",
      "Volume Change    0\n",
      "dtype: int64\n",
      "\n",
      "Percentage of Missing Values:\n",
      "Date             0.0\n",
      "Ticker           0.0\n",
      "Open             0.0\n",
      "High             0.0\n",
      "Low              0.0\n",
      "Close            0.0\n",
      "Adj Close        0.0\n",
      "Volume           0.0\n",
      "Daily Return     0.0\n",
      "SMA_20           0.0\n",
      "SMA_50           0.0\n",
      "Volume Change    0.0\n",
      "dtype: float64\n"
     ]
    }
   ],
   "source": [
    "print(\"\\n=== Missing Values Analysis ===\")\n",
    "missing_summary = combined_df.isnull().sum()\n",
    "print(\"Missing Values per Column:\")\n",
    "print(missing_summary)\n",
    "print(\"\\nPercentage of Missing Values:\")\n",
    "print((missing_summary / len(combined_df)) * 100)"
   ]
  },
  {
   "cell_type": "code",
   "execution_count": 4,
   "id": "8a5efa71-3cde-4074-b519-10cfa8c6d208",
   "metadata": {},
   "outputs": [
    {
     "name": "stdout",
     "output_type": "stream",
     "text": [
      "=== Correlation Matrix (Top Correlations) ===\n",
      "Daily Return     1.000000\n",
      "Volume Change    1.000000\n",
      "High             0.425198\n",
      "Open             0.425198\n",
      "Low              0.425198\n",
      "Close            0.425198\n",
      "Volume           0.425198\n",
      "Adj Close        0.425198\n",
      "SMA_20          -0.144857\n",
      "SMA_50          -0.164451\n",
      "Name: Daily Return, dtype: float64\n",
      "Key Insights: High correlation between OHLC prices (expected). Check for multicollinearity in models.\n"
     ]
    }
   ],
   "source": [
    "numerical_cols = ['Open', 'High', 'Low', 'Close', 'Adj Close', 'Volume', 'Daily Return', 'SMA_20', 'SMA_50', 'Volume Change']\n",
    "corr_matrix = combined_df[numerical_cols].corr()\n",
    "\n",
    "print(\"=== Correlation Matrix (Top Correlations) ===\")\n",
    "print(corr_matrix['Daily Return'].sort_values(ascending=False))\n",
    "print(\"Key Insights: High correlation between OHLC prices (expected). Check for multicollinearity in models.\")"
   ]
  },
  {
   "cell_type": "code",
   "execution_count": 5,
   "id": "51ce955f-d305-41b3-baf1-49bd049e676c",
   "metadata": {},
   "outputs": [
    {
     "name": "stdout",
     "output_type": "stream",
     "text": [
      "=== Daily Returns Summary by Ticker ===\n",
      "                 mean    std     min     max\n",
      "Ticker                                      \n",
      "ADANIPORTS.NS   -0.08   2.21  -60.12    0.00\n",
      "AXISBANK.NS      0.01   3.31  -60.12   66.94\n",
      "BAJFINANCE.NS    0.07   2.50  -12.41   66.94\n",
      "BHARTIARTL.NS    0.50  13.99  -12.41  380.83\n",
      "HDFCBANK.NS      0.42  14.21  -68.74  380.83\n",
      "HINDUNILVR.NS    0.02   3.90  -68.74   80.89\n",
      "ICICIBANK.NS     0.10   2.98   -6.89   80.89\n",
      "INFY.NS          0.07   2.09   -6.89   56.45\n",
      "ITC.NS           0.00   2.86  -53.69   56.45\n",
      "LT.NS            0.05   3.81  -53.69   88.66\n",
      "M&M.NS           0.46   9.82    0.00  252.47\n",
      "RELIANCE.NS    252.47   0.00  252.47  252.47\n",
      "SBIN.NS          0.25   9.58  -65.48  252.47\n",
      "TATAMOTORS.NS   -0.20   3.82  -80.82    0.00\n",
      "TCS.NS           0.05   5.33  -80.82  120.35\n",
      "\n",
      "Key Insights: Compare volatility (std) and average returns across stocks.\n",
      "\n",
      "=== Overall Volume Insights ===\n",
      "                  mean     std     max\n",
      "Ticker                                \n",
      "ADANIPORTS.NS  3611.67   79.77  3614.6\n",
      "AXISBANK.NS     701.98   17.23  1170.8\n",
      "BAJFINANCE.NS  1170.60    5.33  1170.8\n",
      "BHARTIARTL.NS   405.27   56.37  1938.7\n",
      "HDFCBANK.NS    3059.56   77.28  3062.4\n",
      "HINDUNILVR.NS  1395.82   41.41  2522.2\n",
      "ICICIBANK.NS   1497.36    3.79  1497.5\n",
      "INFY.NS         957.93   19.84  1497.5\n",
      "ITC.NS          869.97   17.16   870.6\n",
      "LT.NS          1941.02   63.10  3657.6\n",
      "M&M.NS         1028.99   95.05  3614.6\n",
      "RELIANCE.NS    3611.60   81.67  3614.6\n",
      "SBIN.NS        2519.97   60.63  2522.2\n",
      "TATAMOTORS.NS  3653.62  108.53  3657.6\n",
      "TCS.NS         1392.05   61.40  3062.4\n"
     ]
    }
   ],
   "source": [
    "print(\"=== Daily Returns Summary by Ticker ===\")\n",
    "returns_summary = combined_df.groupby('Ticker')['Daily Return'].agg(['mean', 'std', 'min', 'max']).round(4) * 100\n",
    "print(returns_summary)\n",
    "print(\"\\nKey Insights: Compare volatility (std) and average returns across stocks.\")\n",
    "\n",
    "print(\"\\n=== Overall Volume Insights ===\")\n",
    "volume_summary = combined_df.groupby('Ticker')['Volume'].agg(['mean', 'std', 'max']).round(2)\n",
    "print(volume_summary)"
   ]
  },
  {
   "cell_type": "code",
   "execution_count": null,
   "id": "3efd4dc9-7279-42bf-99c0-bd9ddcc09d73",
   "metadata": {},
   "outputs": [],
   "source": []
  }
 ],
 "metadata": {
  "kernelspec": {
   "display_name": "Python 3 (ipykernel)",
   "language": "python",
   "name": "python3"
  },
  "language_info": {
   "codemirror_mode": {
    "name": "ipython",
    "version": 3
   },
   "file_extension": ".py",
   "mimetype": "text/x-python",
   "name": "python",
   "nbconvert_exporter": "python",
   "pygments_lexer": "ipython3",
   "version": "3.12.7"
  }
 },
 "nbformat": 4,
 "nbformat_minor": 5
}
