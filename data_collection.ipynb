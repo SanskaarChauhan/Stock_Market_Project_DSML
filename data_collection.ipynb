{
 "cells": [
  {
   "cell_type": "markdown",
   "id": "50d7af5d-424f-4c77-b6eb-eadae04314df",
   "metadata": {},
   "source": [
    "# Data Collection\n",
    "Fetch raw stock data using yfinance for Indian tickers (3-year range). Outputs `raw_stock_data.csv` for next notebook."
   ]
  },
  {
   "cell_type": "code",
   "execution_count": 2,
   "id": "1f460eb3-2dc4-4398-8843-0fe5a77ac837",
   "metadata": {},
   "outputs": [
    {
     "name": "stdout",
     "output_type": "stream",
     "text": [
      "Requirement already satisfied: pandas in c:\\users\\sanskaar chauhan\\onedrive\\desktop\\stock market project\\stockenv\\lib\\site-packages (2.3.2)\n",
      "Requirement already satisfied: numpy in c:\\users\\sanskaar chauhan\\onedrive\\desktop\\stock market project\\stockenv\\lib\\site-packages (2.3.3)\n",
      "Requirement already satisfied: yfinance in c:\\users\\sanskaar chauhan\\onedrive\\desktop\\stock market project\\stockenv\\lib\\site-packages (0.2.66)\n",
      "Requirement already satisfied: matplotlib in c:\\users\\sanskaar chauhan\\onedrive\\desktop\\stock market project\\stockenv\\lib\\site-packages (3.10.6)\n",
      "Requirement already satisfied: seaborn in c:\\users\\sanskaar chauhan\\onedrive\\desktop\\stock market project\\stockenv\\lib\\site-packages (0.13.2)\n",
      "Requirement already satisfied: scikit-learn in c:\\users\\sanskaar chauhan\\onedrive\\desktop\\stock market project\\stockenv\\lib\\site-packages (1.7.2)\n",
      "Requirement already satisfied: sqlalchemy in c:\\users\\sanskaar chauhan\\onedrive\\desktop\\stock market project\\stockenv\\lib\\site-packages (2.0.43)\n",
      "Requirement already satisfied: python-dateutil>=2.8.2 in c:\\users\\sanskaar chauhan\\onedrive\\desktop\\stock market project\\stockenv\\lib\\site-packages (from pandas) (2.9.0.post0)\n",
      "Requirement already satisfied: pytz>=2020.1 in c:\\users\\sanskaar chauhan\\onedrive\\desktop\\stock market project\\stockenv\\lib\\site-packages (from pandas) (2025.2)\n",
      "Requirement already satisfied: tzdata>=2022.7 in c:\\users\\sanskaar chauhan\\onedrive\\desktop\\stock market project\\stockenv\\lib\\site-packages (from pandas) (2025.2)\n",
      "Requirement already satisfied: requests>=2.31 in c:\\users\\sanskaar chauhan\\onedrive\\desktop\\stock market project\\stockenv\\lib\\site-packages (from yfinance) (2.32.5)\n",
      "Requirement already satisfied: multitasking>=0.0.7 in c:\\users\\sanskaar chauhan\\onedrive\\desktop\\stock market project\\stockenv\\lib\\site-packages (from yfinance) (0.0.12)\n",
      "Requirement already satisfied: platformdirs>=2.0.0 in c:\\users\\sanskaar chauhan\\onedrive\\desktop\\stock market project\\stockenv\\lib\\site-packages (from yfinance) (4.4.0)\n",
      "Requirement already satisfied: frozendict>=2.3.4 in c:\\users\\sanskaar chauhan\\onedrive\\desktop\\stock market project\\stockenv\\lib\\site-packages (from yfinance) (2.4.6)\n",
      "Requirement already satisfied: peewee>=3.16.2 in c:\\users\\sanskaar chauhan\\onedrive\\desktop\\stock market project\\stockenv\\lib\\site-packages (from yfinance) (3.18.2)\n",
      "Requirement already satisfied: beautifulsoup4>=4.11.1 in c:\\users\\sanskaar chauhan\\onedrive\\desktop\\stock market project\\stockenv\\lib\\site-packages (from yfinance) (4.13.5)\n",
      "Requirement already satisfied: curl_cffi>=0.7 in c:\\users\\sanskaar chauhan\\onedrive\\desktop\\stock market project\\stockenv\\lib\\site-packages (from yfinance) (0.13.0)\n",
      "Requirement already satisfied: protobuf>=3.19.0 in c:\\users\\sanskaar chauhan\\onedrive\\desktop\\stock market project\\stockenv\\lib\\site-packages (from yfinance) (6.32.1)\n",
      "Requirement already satisfied: websockets>=13.0 in c:\\users\\sanskaar chauhan\\onedrive\\desktop\\stock market project\\stockenv\\lib\\site-packages (from yfinance) (15.0.1)\n",
      "Requirement already satisfied: contourpy>=1.0.1 in c:\\users\\sanskaar chauhan\\onedrive\\desktop\\stock market project\\stockenv\\lib\\site-packages (from matplotlib) (1.3.3)\n",
      "Requirement already satisfied: cycler>=0.10 in c:\\users\\sanskaar chauhan\\onedrive\\desktop\\stock market project\\stockenv\\lib\\site-packages (from matplotlib) (0.12.1)\n",
      "Requirement already satisfied: fonttools>=4.22.0 in c:\\users\\sanskaar chauhan\\onedrive\\desktop\\stock market project\\stockenv\\lib\\site-packages (from matplotlib) (4.60.0)\n",
      "Requirement already satisfied: kiwisolver>=1.3.1 in c:\\users\\sanskaar chauhan\\onedrive\\desktop\\stock market project\\stockenv\\lib\\site-packages (from matplotlib) (1.4.9)\n",
      "Requirement already satisfied: packaging>=20.0 in c:\\users\\sanskaar chauhan\\onedrive\\desktop\\stock market project\\stockenv\\lib\\site-packages (from matplotlib) (25.0)\n",
      "Requirement already satisfied: pillow>=8 in c:\\users\\sanskaar chauhan\\onedrive\\desktop\\stock market project\\stockenv\\lib\\site-packages (from matplotlib) (11.3.0)\n",
      "Requirement already satisfied: pyparsing>=2.3.1 in c:\\users\\sanskaar chauhan\\onedrive\\desktop\\stock market project\\stockenv\\lib\\site-packages (from matplotlib) (3.2.4)\n",
      "Requirement already satisfied: scipy>=1.8.0 in c:\\users\\sanskaar chauhan\\onedrive\\desktop\\stock market project\\stockenv\\lib\\site-packages (from scikit-learn) (1.16.2)\n",
      "Requirement already satisfied: joblib>=1.2.0 in c:\\users\\sanskaar chauhan\\onedrive\\desktop\\stock market project\\stockenv\\lib\\site-packages (from scikit-learn) (1.5.2)\n",
      "Requirement already satisfied: threadpoolctl>=3.1.0 in c:\\users\\sanskaar chauhan\\onedrive\\desktop\\stock market project\\stockenv\\lib\\site-packages (from scikit-learn) (3.6.0)\n",
      "Requirement already satisfied: greenlet>=1 in c:\\users\\sanskaar chauhan\\onedrive\\desktop\\stock market project\\stockenv\\lib\\site-packages (from sqlalchemy) (3.2.4)\n",
      "Requirement already satisfied: typing-extensions>=4.6.0 in c:\\users\\sanskaar chauhan\\onedrive\\desktop\\stock market project\\stockenv\\lib\\site-packages (from sqlalchemy) (4.15.0)\n",
      "Requirement already satisfied: soupsieve>1.2 in c:\\users\\sanskaar chauhan\\onedrive\\desktop\\stock market project\\stockenv\\lib\\site-packages (from beautifulsoup4>=4.11.1->yfinance) (2.8)\n",
      "Requirement already satisfied: cffi>=1.12.0 in c:\\users\\sanskaar chauhan\\onedrive\\desktop\\stock market project\\stockenv\\lib\\site-packages (from curl_cffi>=0.7->yfinance) (2.0.0)\n",
      "Requirement already satisfied: certifi>=2024.2.2 in c:\\users\\sanskaar chauhan\\onedrive\\desktop\\stock market project\\stockenv\\lib\\site-packages (from curl_cffi>=0.7->yfinance) (2025.8.3)\n",
      "Requirement already satisfied: six>=1.5 in c:\\users\\sanskaar chauhan\\onedrive\\desktop\\stock market project\\stockenv\\lib\\site-packages (from python-dateutil>=2.8.2->pandas) (1.17.0)\n",
      "Requirement already satisfied: charset_normalizer<4,>=2 in c:\\users\\sanskaar chauhan\\onedrive\\desktop\\stock market project\\stockenv\\lib\\site-packages (from requests>=2.31->yfinance) (3.4.3)\n",
      "Requirement already satisfied: idna<4,>=2.5 in c:\\users\\sanskaar chauhan\\onedrive\\desktop\\stock market project\\stockenv\\lib\\site-packages (from requests>=2.31->yfinance) (3.10)\n",
      "Requirement already satisfied: urllib3<3,>=1.21.1 in c:\\users\\sanskaar chauhan\\onedrive\\desktop\\stock market project\\stockenv\\lib\\site-packages (from requests>=2.31->yfinance) (2.5.0)\n",
      "Requirement already satisfied: pycparser in c:\\users\\sanskaar chauhan\\onedrive\\desktop\\stock market project\\stockenv\\lib\\site-packages (from cffi>=1.12.0->curl_cffi>=0.7->yfinance) (2.23)\n",
      "All libraries imported successfully\n"
     ]
    },
    {
     "name": "stderr",
     "output_type": "stream",
     "text": [
      "\n",
      "[notice] A new release of pip is available: 24.2 -> 25.2\n",
      "[notice] To update, run: python.exe -m pip install --upgrade pip\n"
     ]
    }
   ],
   "source": [
    "# Imports (global for this notebook)\n",
    "import pandas as pd\n",
    "import numpy as np\n",
    "import yfinance as yf\n",
    "import datetime as dt\n",
    "import os\n",
    "from pathlib import Path\n",
    "\n",
    "# Install requirements if needed (run once)\n",
    "!pip install pandas numpy yfinance matplotlib seaborn scikit-learn sqlalchemy\n",
    "\n",
    "print(\"All libraries imported successfully\")"
   ]
  },
  {
   "cell_type": "code",
   "execution_count": 3,
   "id": "3c9b45fb-e2ed-4ca3-be29-be277b3c3b67",
   "metadata": {},
   "outputs": [
    {
     "name": "stdout",
     "output_type": "stream",
     "text": [
      "Date range: 2022-09-24 to 2025-09-23\n"
     ]
    }
   ],
   "source": [
    "# Indian stock tickers\n",
    "indian_tickers = [\n",
    "    \"RELIANCE.NS\", \"TCS.NS\", \"HDFCBANK.NS\", \"INFY.NS\", \"ICICIBANK.NS\",\n",
    "    \"HINDUNILVR.NS\", \"SBIN.NS\", \"ITC.NS\", \"BHARTIARTL.NS\", \"LT.NS\",\n",
    "    \"TATAMOTORS.NS\", \"AXISBANK.NS\", \"BAJFINANCE.NS\", \"M&M.NS\", \"ADANIPORTS.NS\"\n",
    "]\n",
    "\n",
    "# Define 3-year date range\n",
    "end_date = dt.datetime.today()\n",
    "start_date = end_date - dt.timedelta(days=3*365)  # approx 3 years\n",
    "\n",
    "print(f\"Date range: {start_date.date()} to {end_date.date()}\")"
   ]
  },
  {
   "cell_type": "code",
   "execution_count": 4,
   "id": "6745a411-eeec-46a6-85b1-29dcc53c5f11",
   "metadata": {},
   "outputs": [
    {
     "name": "stderr",
     "output_type": "stream",
     "text": [
      "[*********************100%***********************]  1 of 1 completed\n"
     ]
    },
    {
     "name": "stdout",
     "output_type": "stream",
     "text": [
      "✓ Successfully fetched 741 days for RELIANCE.NS\n"
     ]
    },
    {
     "name": "stderr",
     "output_type": "stream",
     "text": [
      "[*********************100%***********************]  1 of 1 completed\n"
     ]
    },
    {
     "name": "stdout",
     "output_type": "stream",
     "text": [
      "✓ Successfully fetched 741 days for TCS.NS\n"
     ]
    },
    {
     "name": "stderr",
     "output_type": "stream",
     "text": [
      "[*********************100%***********************]  1 of 1 completed\n"
     ]
    },
    {
     "name": "stdout",
     "output_type": "stream",
     "text": [
      "✓ Successfully fetched 741 days for HDFCBANK.NS\n"
     ]
    },
    {
     "name": "stderr",
     "output_type": "stream",
     "text": [
      "[*********************100%***********************]  1 of 1 completed\n"
     ]
    },
    {
     "name": "stdout",
     "output_type": "stream",
     "text": [
      "✓ Successfully fetched 741 days for INFY.NS\n"
     ]
    },
    {
     "name": "stderr",
     "output_type": "stream",
     "text": [
      "[*********************100%***********************]  1 of 1 completed\n"
     ]
    },
    {
     "name": "stdout",
     "output_type": "stream",
     "text": [
      "✓ Successfully fetched 741 days for ICICIBANK.NS\n"
     ]
    },
    {
     "name": "stderr",
     "output_type": "stream",
     "text": [
      "[*********************100%***********************]  1 of 1 completed\n"
     ]
    },
    {
     "name": "stdout",
     "output_type": "stream",
     "text": [
      "✓ Successfully fetched 741 days for HINDUNILVR.NS\n"
     ]
    },
    {
     "name": "stderr",
     "output_type": "stream",
     "text": [
      "[*********************100%***********************]  1 of 1 completed\n"
     ]
    },
    {
     "name": "stdout",
     "output_type": "stream",
     "text": [
      "✓ Successfully fetched 741 days for SBIN.NS\n"
     ]
    },
    {
     "name": "stderr",
     "output_type": "stream",
     "text": [
      "[*********************100%***********************]  1 of 1 completed\n"
     ]
    },
    {
     "name": "stdout",
     "output_type": "stream",
     "text": [
      "✓ Successfully fetched 741 days for ITC.NS\n"
     ]
    },
    {
     "name": "stderr",
     "output_type": "stream",
     "text": [
      "[*********************100%***********************]  1 of 1 completed\n"
     ]
    },
    {
     "name": "stdout",
     "output_type": "stream",
     "text": [
      "✓ Successfully fetched 741 days for BHARTIARTL.NS\n"
     ]
    },
    {
     "name": "stderr",
     "output_type": "stream",
     "text": [
      "[*********************100%***********************]  1 of 1 completed\n"
     ]
    },
    {
     "name": "stdout",
     "output_type": "stream",
     "text": [
      "✓ Successfully fetched 741 days for LT.NS\n"
     ]
    },
    {
     "name": "stderr",
     "output_type": "stream",
     "text": [
      "[*********************100%***********************]  1 of 1 completed\n"
     ]
    },
    {
     "name": "stdout",
     "output_type": "stream",
     "text": [
      "✓ Successfully fetched 741 days for TATAMOTORS.NS\n"
     ]
    },
    {
     "name": "stderr",
     "output_type": "stream",
     "text": [
      "[*********************100%***********************]  1 of 1 completed\n"
     ]
    },
    {
     "name": "stdout",
     "output_type": "stream",
     "text": [
      "✓ Successfully fetched 741 days for AXISBANK.NS\n"
     ]
    },
    {
     "name": "stderr",
     "output_type": "stream",
     "text": [
      "[*********************100%***********************]  1 of 1 completed\n"
     ]
    },
    {
     "name": "stdout",
     "output_type": "stream",
     "text": [
      "✓ Successfully fetched 741 days for BAJFINANCE.NS\n"
     ]
    },
    {
     "name": "stderr",
     "output_type": "stream",
     "text": [
      "[*********************100%***********************]  1 of 1 completed\n"
     ]
    },
    {
     "name": "stdout",
     "output_type": "stream",
     "text": [
      "✓ Successfully fetched 741 days for M&M.NS\n"
     ]
    },
    {
     "name": "stderr",
     "output_type": "stream",
     "text": [
      "[*********************100%***********************]  1 of 1 completed"
     ]
    },
    {
     "name": "stdout",
     "output_type": "stream",
     "text": [
      "✓ Successfully fetched 741 days for ADANIPORTS.NS\n"
     ]
    },
    {
     "name": "stderr",
     "output_type": "stream",
     "text": [
      "\n"
     ]
    }
   ],
   "source": [
    "# Dictionary to store each ticker's historical data\n",
    "stock_data = {}\n",
    "\n",
    "for ticker in indian_tickers:\n",
    "    try:\n",
    "        data = yf.download(\n",
    "            ticker,\n",
    "            start=start_date,\n",
    "            end=end_date,\n",
    "            auto_adjust=True  # Adjusted prices account for splits/dividends\n",
    "        )\n",
    "        if not data.empty:\n",
    "            stock_data[ticker] = data\n",
    "            print(f\"✓ Successfully fetched {len(data)} days for {ticker}\")\n",
    "        else:\n",
    "            print(f\"✗ No data available for {ticker}\")\n",
    "    except Exception as e:\n",
    "        print(f\"✗ Error fetching {ticker}: {e}\")"
   ]
  },
  {
   "cell_type": "code",
   "execution_count": 5,
   "id": "83fc3797-2790-429d-8437-e9a20aa6f6dc",
   "metadata": {},
   "outputs": [
    {
     "name": "stderr",
     "output_type": "stream",
     "text": [
      "C:\\Users\\Sanskaar chauhan\\AppData\\Local\\Temp\\ipykernel_46708\\447285482.py:24: FutureWarning: Setting an item of incompatible dtype is deprecated and will raise in a future error of pandas. Value '1389.800048828125' has dtype incompatible with int64, please explicitly cast to a compatible dtype first.\n",
      "  latest_row.loc[:, col] = 0 if col == 'Volume' else float(latest_row['Close'].iloc[0])\n",
      "C:\\Users\\Sanskaar chauhan\\AppData\\Local\\Temp\\ipykernel_46708\\447285482.py:24: FutureWarning: Setting an item of incompatible dtype is deprecated and will raise in a future error of pandas. Value '3062.39990234375' has dtype incompatible with int64, please explicitly cast to a compatible dtype first.\n",
      "  latest_row.loc[:, col] = 0 if col == 'Volume' else float(latest_row['Close'].iloc[0])\n"
     ]
    },
    {
     "name": "stdout",
     "output_type": "stream",
     "text": [
      "✗ Error updating RELIANCE.NS: Cannot compare tz-naive and tz-aware timestamps\n",
      "✗ Error updating TCS.NS: Cannot compare tz-naive and tz-aware timestamps\n"
     ]
    },
    {
     "name": "stderr",
     "output_type": "stream",
     "text": [
      "C:\\Users\\Sanskaar chauhan\\AppData\\Local\\Temp\\ipykernel_46708\\447285482.py:24: FutureWarning: Setting an item of incompatible dtype is deprecated and will raise in a future error of pandas. Value '957.2000122070312' has dtype incompatible with int64, please explicitly cast to a compatible dtype first.\n",
      "  latest_row.loc[:, col] = 0 if col == 'Volume' else float(latest_row['Close'].iloc[0])\n",
      "C:\\Users\\Sanskaar chauhan\\AppData\\Local\\Temp\\ipykernel_46708\\447285482.py:24: FutureWarning: Setting an item of incompatible dtype is deprecated and will raise in a future error of pandas. Value '1497.5' has dtype incompatible with int64, please explicitly cast to a compatible dtype first.\n",
      "  latest_row.loc[:, col] = 0 if col == 'Volume' else float(latest_row['Close'].iloc[0])\n"
     ]
    },
    {
     "name": "stdout",
     "output_type": "stream",
     "text": [
      "✗ Error updating HDFCBANK.NS: Cannot compare tz-naive and tz-aware timestamps\n",
      "✗ Error updating INFY.NS: Cannot compare tz-naive and tz-aware timestamps\n"
     ]
    },
    {
     "name": "stderr",
     "output_type": "stream",
     "text": [
      "C:\\Users\\Sanskaar chauhan\\AppData\\Local\\Temp\\ipykernel_46708\\447285482.py:24: FutureWarning: Setting an item of incompatible dtype is deprecated and will raise in a future error of pandas. Value '1394.300048828125' has dtype incompatible with int64, please explicitly cast to a compatible dtype first.\n",
      "  latest_row.loc[:, col] = 0 if col == 'Volume' else float(latest_row['Close'].iloc[0])\n",
      "C:\\Users\\Sanskaar chauhan\\AppData\\Local\\Temp\\ipykernel_46708\\447285482.py:24: FutureWarning: Setting an item of incompatible dtype is deprecated and will raise in a future error of pandas. Value '2522.199951171875' has dtype incompatible with int64, please explicitly cast to a compatible dtype first.\n",
      "  latest_row.loc[:, col] = 0 if col == 'Volume' else float(latest_row['Close'].iloc[0])\n"
     ]
    },
    {
     "name": "stdout",
     "output_type": "stream",
     "text": [
      "✗ Error updating ICICIBANK.NS: Cannot compare tz-naive and tz-aware timestamps\n",
      "✗ Error updating HINDUNILVR.NS: Cannot compare tz-naive and tz-aware timestamps\n"
     ]
    },
    {
     "name": "stderr",
     "output_type": "stream",
     "text": [
      "C:\\Users\\Sanskaar chauhan\\AppData\\Local\\Temp\\ipykernel_46708\\447285482.py:24: FutureWarning: Setting an item of incompatible dtype is deprecated and will raise in a future error of pandas. Value '870.5999755859375' has dtype incompatible with int64, please explicitly cast to a compatible dtype first.\n",
      "  latest_row.loc[:, col] = 0 if col == 'Volume' else float(latest_row['Close'].iloc[0])\n",
      "C:\\Users\\Sanskaar chauhan\\AppData\\Local\\Temp\\ipykernel_46708\\447285482.py:24: FutureWarning: Setting an item of incompatible dtype is deprecated and will raise in a future error of pandas. Value '403.20001220703125' has dtype incompatible with int64, please explicitly cast to a compatible dtype first.\n",
      "  latest_row.loc[:, col] = 0 if col == 'Volume' else float(latest_row['Close'].iloc[0])\n"
     ]
    },
    {
     "name": "stdout",
     "output_type": "stream",
     "text": [
      "✗ Error updating SBIN.NS: Cannot compare tz-naive and tz-aware timestamps\n",
      "✗ Error updating ITC.NS: Cannot compare tz-naive and tz-aware timestamps\n"
     ]
    },
    {
     "name": "stderr",
     "output_type": "stream",
     "text": [
      "C:\\Users\\Sanskaar chauhan\\AppData\\Local\\Temp\\ipykernel_46708\\447285482.py:24: FutureWarning: Setting an item of incompatible dtype is deprecated and will raise in a future error of pandas. Value '1938.699951171875' has dtype incompatible with int64, please explicitly cast to a compatible dtype first.\n",
      "  latest_row.loc[:, col] = 0 if col == 'Volume' else float(latest_row['Close'].iloc[0])\n",
      "C:\\Users\\Sanskaar chauhan\\AppData\\Local\\Temp\\ipykernel_46708\\447285482.py:24: FutureWarning: Setting an item of incompatible dtype is deprecated and will raise in a future error of pandas. Value '3657.60009765625' has dtype incompatible with int64, please explicitly cast to a compatible dtype first.\n",
      "  latest_row.loc[:, col] = 0 if col == 'Volume' else float(latest_row['Close'].iloc[0])\n"
     ]
    },
    {
     "name": "stdout",
     "output_type": "stream",
     "text": [
      "✗ Error updating BHARTIARTL.NS: Cannot compare tz-naive and tz-aware timestamps\n",
      "✗ Error updating LT.NS: Cannot compare tz-naive and tz-aware timestamps\n"
     ]
    },
    {
     "name": "stderr",
     "output_type": "stream",
     "text": [
      "C:\\Users\\Sanskaar chauhan\\AppData\\Local\\Temp\\ipykernel_46708\\447285482.py:24: FutureWarning: Setting an item of incompatible dtype is deprecated and will raise in a future error of pandas. Value '701.3499755859375' has dtype incompatible with int64, please explicitly cast to a compatible dtype first.\n",
      "  latest_row.loc[:, col] = 0 if col == 'Volume' else float(latest_row['Close'].iloc[0])\n",
      "C:\\Users\\Sanskaar chauhan\\AppData\\Local\\Temp\\ipykernel_46708\\447285482.py:24: FutureWarning: Setting an item of incompatible dtype is deprecated and will raise in a future error of pandas. Value '1170.800048828125' has dtype incompatible with int64, please explicitly cast to a compatible dtype first.\n",
      "  latest_row.loc[:, col] = 0 if col == 'Volume' else float(latest_row['Close'].iloc[0])\n"
     ]
    },
    {
     "name": "stdout",
     "output_type": "stream",
     "text": [
      "✗ Error updating TATAMOTORS.NS: Cannot compare tz-naive and tz-aware timestamps\n",
      "✗ Error updating AXISBANK.NS: Cannot compare tz-naive and tz-aware timestamps\n"
     ]
    },
    {
     "name": "stderr",
     "output_type": "stream",
     "text": [
      "C:\\Users\\Sanskaar chauhan\\AppData\\Local\\Temp\\ipykernel_46708\\447285482.py:24: FutureWarning: Setting an item of incompatible dtype is deprecated and will raise in a future error of pandas. Value '1025.5' has dtype incompatible with int64, please explicitly cast to a compatible dtype first.\n",
      "  latest_row.loc[:, col] = 0 if col == 'Volume' else float(latest_row['Close'].iloc[0])\n",
      "C:\\Users\\Sanskaar chauhan\\AppData\\Local\\Temp\\ipykernel_46708\\447285482.py:24: FutureWarning: Setting an item of incompatible dtype is deprecated and will raise in a future error of pandas. Value '3614.60009765625' has dtype incompatible with int64, please explicitly cast to a compatible dtype first.\n",
      "  latest_row.loc[:, col] = 0 if col == 'Volume' else float(latest_row['Close'].iloc[0])\n"
     ]
    },
    {
     "name": "stdout",
     "output_type": "stream",
     "text": [
      "✗ Error updating BAJFINANCE.NS: Cannot compare tz-naive and tz-aware timestamps\n",
      "✗ Error updating M&M.NS: Cannot compare tz-naive and tz-aware timestamps\n",
      "✗ Error updating ADANIPORTS.NS: Cannot compare tz-naive and tz-aware timestamps\n",
      "Live price update completed\n"
     ]
    },
    {
     "name": "stderr",
     "output_type": "stream",
     "text": [
      "C:\\Users\\Sanskaar chauhan\\AppData\\Local\\Temp\\ipykernel_46708\\447285482.py:24: FutureWarning: Setting an item of incompatible dtype is deprecated and will raise in a future error of pandas. Value '1441.5999755859375' has dtype incompatible with int64, please explicitly cast to a compatible dtype first.\n",
      "  latest_row.loc[:, col] = 0 if col == 'Volume' else float(latest_row['Close'].iloc[0])\n"
     ]
    }
   ],
   "source": [
    "# Update with latest data (current trading day if available)\n",
    "for ticker, data in stock_data.items():\n",
    "    try:\n",
    "        ticker_obj = yf.Ticker(ticker)\n",
    "        latest_data = ticker_obj.history(period=\"1d\")\n",
    "        \n",
    "        if latest_data.empty:\n",
    "            print(f\"✗ No latest data for {ticker}\")\n",
    "            continue\n",
    "        \n",
    "        latest_date = latest_data.index[0]\n",
    "        \n",
    "        # Check if this date is already in the historical data\n",
    "        if latest_date in data.index:\n",
    "            print(f\"✓ {ticker} already up to date ({latest_date.date()})\")\n",
    "            continue\n",
    "        \n",
    "        # Align and append the latest data\n",
    "        latest_row = latest_data.iloc[0:1]  # Get as DataFrame\n",
    "        \n",
    "        # Ensure consistent column names\n",
    "        for col in data.columns:\n",
    "            if col not in latest_row.columns:\n",
    "                latest_row.loc[:, col] = 0 if col == 'Volume' else float(latest_row['Close'].iloc[0])\n",
    "\n",
    "        # Concatenate and sort\n",
    "        stock_data[ticker] = pd.concat([data, latest_row])\n",
    "        stock_data[ticker].sort_index(inplace=True)\n",
    "        \n",
    "        print(f\"✓ Updated {ticker} with data for {latest_date.date()}\")\n",
    "        \n",
    "    except Exception as e:\n",
    "        print(f\"✗ Error updating {ticker}: {e}\")\n",
    "\n",
    "print(\"Live price update completed\")"
   ]
  },
  {
   "cell_type": "code",
   "execution_count": 6,
   "id": "1d626fa6-a37e-4aaa-8f5d-b7f0db435795",
   "metadata": {},
   "outputs": [
    {
     "name": "stdout",
     "output_type": "stream",
     "text": [
      "TATAMOTORS.NS data preview:\n",
      "                           (Close, TATAMOTORS.NS)  (High, TATAMOTORS.NS)  \\\n",
      "Date                                                                       \n",
      "2025-09-18 00:00:00                    711.200012             725.250000   \n",
      "2025-09-19 00:00:00                    707.450012             713.500000   \n",
      "2025-09-22 00:00:00                    696.250000             712.000000   \n",
      "2025-09-23 00:00:00                    701.349976             707.799988   \n",
      "2025-09-23 00:00:00+05:30                     NaN                    NaN   \n",
      "\n",
      "                           (Low, TATAMOTORS.NS)  (Open, TATAMOTORS.NS)  \\\n",
      "Date                                                                     \n",
      "2025-09-18 00:00:00                  707.599976             722.000000   \n",
      "2025-09-19 00:00:00                  704.950012             713.500000   \n",
      "2025-09-22 00:00:00                  694.849976             709.000000   \n",
      "2025-09-23 00:00:00                  697.000000             701.799988   \n",
      "2025-09-23 00:00:00+05:30                   NaN                    NaN   \n",
      "\n",
      "                           (Volume, TATAMOTORS.NS)        Open        High  \\\n",
      "Date                                                                         \n",
      "2025-09-18 00:00:00                     12199357.0         NaN         NaN   \n",
      "2025-09-19 00:00:00                     12127319.0         NaN         NaN   \n",
      "2025-09-22 00:00:00                      9688597.0         NaN         NaN   \n",
      "2025-09-23 00:00:00                     11902513.0         NaN         NaN   \n",
      "2025-09-23 00:00:00+05:30                      NaN  701.349976  701.349976   \n",
      "\n",
      "                                  Low       Close      Volume  Dividends  \\\n",
      "Date                                                                       \n",
      "2025-09-18 00:00:00               NaN         NaN         NaN        NaN   \n",
      "2025-09-19 00:00:00               NaN         NaN         NaN        NaN   \n",
      "2025-09-22 00:00:00               NaN         NaN         NaN        NaN   \n",
      "2025-09-23 00:00:00               NaN         NaN         NaN        NaN   \n",
      "2025-09-23 00:00:00+05:30  701.349976  701.349976  701.349976        0.0   \n",
      "\n",
      "                           Stock Splits  TATAMOTORS.NS  \n",
      "Date                                                    \n",
      "2025-09-18 00:00:00                 NaN            NaN  \n",
      "2025-09-19 00:00:00                 NaN            NaN  \n",
      "2025-09-22 00:00:00                 NaN            NaN  \n",
      "2025-09-23 00:00:00                 NaN            NaN  \n",
      "2025-09-23 00:00:00+05:30           0.0     701.349976  \n",
      "\n",
      "Data shape: (742, 13)\n"
     ]
    }
   ],
   "source": [
    "# Preview TATAMOTORS.NS\n",
    "print(\"TATAMOTORS.NS data preview:\")\n",
    "if \"TATAMOTORS.NS\" in stock_data:\n",
    "    print(stock_data[\"TATAMOTORS.NS\"].tail())\n",
    "    print(f\"\\nData shape: {stock_data['TATAMOTORS.NS'].shape}\")\n",
    "else:\n",
    "    print(\"TATAMOTORS.NS not fetched.\")"
   ]
  },
  {
   "cell_type": "code",
   "execution_count": 7,
   "id": "db4662c0-d7f5-4362-9f5f-7070912e2411",
   "metadata": {},
   "outputs": [
    {
     "name": "stdout",
     "output_type": "stream",
     "text": [
      "✓ Processed RELIANCE.NS: 742 rows\n",
      "✓ Processed TCS.NS: 742 rows\n",
      "✓ Processed HDFCBANK.NS: 742 rows\n",
      "✓ Processed INFY.NS: 742 rows\n",
      "✓ Processed ICICIBANK.NS: 742 rows\n",
      "✓ Processed HINDUNILVR.NS: 742 rows\n",
      "✓ Processed SBIN.NS: 742 rows\n",
      "✓ Processed ITC.NS: 742 rows\n",
      "✓ Processed BHARTIARTL.NS: 742 rows\n",
      "✓ Processed LT.NS: 742 rows\n",
      "✓ Processed TATAMOTORS.NS: 742 rows\n",
      "✓ Processed AXISBANK.NS: 742 rows\n",
      "✓ Processed BAJFINANCE.NS: 742 rows\n",
      "✓ Processed M&M.NS: 742 rows\n",
      "✓ Processed ADANIPORTS.NS: 742 rows\n",
      "\n",
      "Combined DataFrame shape: (11130, 8)\n",
      "Data has been successfully processed and combined\n",
      "✓ Raw data saved to 'raw_stock_data.csv' (11130 rows). Run data_preprocessing_feature_engineering.ipynb next.\n"
     ]
    }
   ],
   "source": [
    "# Create a list to hold the processed dataframes\n",
    "processed_dfs = []\n",
    "\n",
    "for ticker, data in stock_data.items():\n",
    "    try:\n",
    "        # Reset the index to make Date a column\n",
    "        df = data.reset_index()\n",
    "        df.rename(columns={'index': 'Date'}, inplace=True)\n",
    "        \n",
    "        # Add a 'Ticker' column to identify the stock\n",
    "        df['Ticker'] = ticker\n",
    "        \n",
    "        # Ensure 'Adj Close' column exists\n",
    "        if 'Adj Close' not in df.columns:\n",
    "            df['Adj Close'] = df['Close']\n",
    "        \n",
    "        # Select and reorder columns\n",
    "        df = df[['Date', 'Ticker', 'Open', 'High', 'Low', 'Close', 'Adj Close', 'Volume']]\n",
    "        \n",
    "        # Append the processed dataframe to the list\n",
    "        processed_dfs.append(df)\n",
    "        \n",
    "        print(f\"✓ Processed {ticker}: {len(df)} rows\")\n",
    "        \n",
    "    except Exception as e:\n",
    "        print(f\"✗ Error processing {ticker}: {e}\")\n",
    "\n",
    "# Concatenate all tickers into a single DataFrame\n",
    "combined_df = pd.concat(processed_dfs, ignore_index=True)\n",
    "\n",
    "# Basic fill for OHLCV (full cleaning in next notebook)\n",
    "combined_df.ffill(inplace=True)\n",
    "\n",
    "print(f\"\\nCombined DataFrame shape: {combined_df.shape}\")\n",
    "print(\"Data has been successfully processed and combined\")\n",
    "\n",
    "# Save raw CSV for next notebook\n",
    "raw_csv = 'raw_stock_data.csv'\n",
    "combined_df.to_csv(raw_csv, index=False)\n",
    "print(f\"✓ Raw data saved to '{raw_csv}' ({len(combined_df)} rows). Run data_preprocessing_feature_engineering.ipynb next.\")"
   ]
  },
  {
   "cell_type": "code",
   "execution_count": null,
   "id": "93cd7146-db23-43f7-81f7-1b6834b7bdfc",
   "metadata": {},
   "outputs": [],
   "source": []
  }
 ],
 "metadata": {
  "kernelspec": {
   "display_name": "Python 3 (ipykernel)",
   "language": "python",
   "name": "python3"
  },
  "language_info": {
   "codemirror_mode": {
    "name": "ipython",
    "version": 3
   },
   "file_extension": ".py",
   "mimetype": "text/x-python",
   "name": "python",
   "nbconvert_exporter": "python",
   "pygments_lexer": "ipython3",
   "version": "3.12.7"
  }
 },
 "nbformat": 4,
 "nbformat_minor": 5
}
