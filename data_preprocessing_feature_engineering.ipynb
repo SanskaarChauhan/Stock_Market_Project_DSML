{
 "cells": [
  {
   "cell_type": "markdown",
   "id": "20de8ead-164e-480e-bf9c-d15428f4628b",
   "metadata": {},
   "source": [
    "# Data Preprocessing & Feature Engineering\n",
    "Load raw data from CSV, add features (Daily Return, SMAs, Volume Change), clean NaNs. Outputs `enhanced_stock_data.csv`."
   ]
  },
  {
   "cell_type": "code",
   "execution_count": 1,
   "id": "11629a11-9c22-42d0-9458-fd80489f3cb3",
   "metadata": {},
   "outputs": [
    {
     "name": "stdout",
     "output_type": "stream",
     "text": [
      "Libraries imported\n"
     ]
    }
   ],
   "source": [
    "import pandas as pd\n",
    "import numpy as np\n",
    "import matplotlib.pyplot as plt\n",
    "import seaborn as sns\n",
    "from pathlib import Path\n",
    "\n",
    "print(\"Libraries imported\")"
   ]
  },
  {
   "cell_type": "code",
   "execution_count": 3,
   "id": "5f207c77-d0d9-4bac-88e3-b8e2224b3d2f",
   "metadata": {},
   "outputs": [
    {
     "name": "stdout",
     "output_type": "stream",
     "text": [
      "Loaded raw data: (11130, 8)\n",
      "        Date       Ticker  Open  High  Low  Close  Adj Close  Volume\n",
      "0 2022-09-26  RELIANCE.NS   NaN   NaN  NaN    NaN        NaN     NaN\n",
      "1 2022-09-27  RELIANCE.NS   NaN   NaN  NaN    NaN        NaN     NaN\n",
      "2 2022-09-28  RELIANCE.NS   NaN   NaN  NaN    NaN        NaN     NaN\n",
      "3 2022-09-29  RELIANCE.NS   NaN   NaN  NaN    NaN        NaN     NaN\n",
      "4 2022-09-30  RELIANCE.NS   NaN   NaN  NaN    NaN        NaN     NaN\n"
     ]
    }
   ],
   "source": [
    "# Load raw CSV (checkpoint from data_collection.ipynb)\n",
    "raw_csv = 'raw_stock_data.csv'\n",
    "if not Path(raw_csv).exists():\n",
    "    raise FileNotFoundError(f\"{raw_csv} not found. Run data_collection.ipynb first.\")\n",
    "combined_df = pd.read_csv(raw_csv)\n",
    "combined_df['Date'] = pd.to_datetime(combined_df['Date'], utc=True, errors='coerce')\n",
    "combined_df['Date'] = combined_df['Date'].dt.tz_convert(None)  # remove timezone info\n",
    "\n",
    "print(f\"Loaded raw data: {combined_df.shape}\")\n",
    "print(combined_df.head())"
   ]
  },
  {
   "cell_type": "code",
   "execution_count": 4,
   "id": "96a02f70-2688-4307-aa9c-2697e6d9c45d",
   "metadata": {},
   "outputs": [
    {
     "name": "stdout",
     "output_type": "stream",
     "text": [
      "DataFrame with engineered features:\n",
      "           Date  Ticker         Open         High          Low        Close  \\\n",
      "1479 2025-09-18  TCS.NS  1389.800049  1389.800049  1389.800049  1389.800049   \n",
      "1480 2025-09-19  TCS.NS  1389.800049  1389.800049  1389.800049  1389.800049   \n",
      "1481 2025-09-22  TCS.NS  1389.800049  1389.800049  1389.800049  1389.800049   \n",
      "1482 2025-09-23  TCS.NS  1389.800049  1389.800049  1389.800049  1389.800049   \n",
      "1483        NaT  TCS.NS  3062.399902  3062.399902  3062.399902  3062.399902   \n",
      "\n",
      "        Adj Close       Volume  Daily Return       SMA_20       SMA_50  \\\n",
      "1479  1389.800049  1389.800049      0.000000  1389.800049  1389.800049   \n",
      "1480  1389.800049  1389.800049      0.000000  1389.800049  1389.800049   \n",
      "1481  1389.800049  1389.800049      0.000000  1389.800049  1389.800049   \n",
      "1482  1389.800049  1389.800049      0.000000  1389.800049  1389.800049   \n",
      "1483  3062.399902  3062.399902      1.203482  1473.430042  1423.252046   \n",
      "\n",
      "      Volume Change  \n",
      "1479       0.000000  \n",
      "1480       0.000000  \n",
      "1481       0.000000  \n",
      "1482       0.000000  \n",
      "1483       1.203482  \n"
     ]
    }
   ],
   "source": [
    "# Timezone handling and sorting\n",
    "combined_df['Date'] = pd.to_datetime(combined_df['Date'], utc=True)\n",
    "combined_df['Date'] = combined_df['Date'].dt.tz_convert(None)\n",
    "combined_df.sort_values(by=['Ticker', 'Date'], inplace=True)\n",
    "\n",
    "# Daily Returns\n",
    "combined_df['Daily Return'] = combined_df.groupby('Ticker')['Adj Close'].pct_change(fill_method=None)\n",
    "\n",
    "# Moving Averages\n",
    "combined_df['SMA_20'] = combined_df.groupby('Ticker')['Close'].transform(lambda x: x.rolling(window=20).mean())\n",
    "combined_df['SMA_50'] = combined_df.groupby('Ticker')['Close'].transform(lambda x: x.rolling(window=50).mean())\n",
    "\n",
    "# Volume Change\n",
    "combined_df['Volume Change'] = combined_df.groupby('Ticker')['Volume'].pct_change(fill_method=None)\n",
    "\n",
    "print(\"DataFrame with engineered features:\")\n",
    "print(combined_df.tail())"
   ]
  },
  {
   "cell_type": "code",
   "execution_count": 5,
   "id": "6f7c3547-4f49-445e-b8e1-0c3637650d8d",
   "metadata": {},
   "outputs": [
    {
     "name": "stdout",
     "output_type": "stream",
     "text": [
      "=== Missing Values Analysis ===\n",
      "Missing Values per Column:\n",
      "Date               15\n",
      "Ticker              0\n",
      "Open              741\n",
      "High              741\n",
      "Low               741\n",
      "Close             741\n",
      "Adj Close         741\n",
      "Volume            741\n",
      "Daily Return      756\n",
      "SMA_20           1008\n",
      "SMA_50           1428\n",
      "Volume Change     756\n",
      "dtype: int64\n",
      "\n",
      "Percentage of Missing Values:\n",
      "Date              0.134771\n",
      "Ticker            0.000000\n",
      "Open              6.657682\n",
      "High              6.657682\n",
      "Low               6.657682\n",
      "Close             6.657682\n",
      "Adj Close         6.657682\n",
      "Volume            6.657682\n",
      "Daily Return      6.792453\n",
      "SMA_20            9.056604\n",
      "SMA_50           12.830189\n",
      "Volume Change     6.792453\n",
      "dtype: float64\n",
      "\n",
      "After filling: Total missing values = 0\n",
      "✓ Enhanced data saved to 'enhanced_stock_data.csv' (11130 rows). Run eda.ipynb or visualization.ipynb next.\n"
     ]
    }
   ],
   "source": [
    "print(\"=== Missing Values Analysis ===\")\n",
    "missing_summary = combined_df.isnull().sum()\n",
    "print(\"Missing Values per Column:\")\n",
    "print(missing_summary)\n",
    "print(\"\\nPercentage of Missing Values:\")\n",
    "print((missing_summary / len(combined_df)) * 100)\n",
    "\n",
    "# Fill NaNs (fixed for pandas 2.0+)\n",
    "combined_df.ffill(inplace=True)\n",
    "combined_df.bfill(inplace=True)\n",
    "print(f\"\\nAfter filling: Total missing values = {combined_df.isnull().sum().sum()}\")\n",
    "\n",
    "# Save enhanced CSV for next notebooks\n",
    "enhanced_csv = 'enhanced_stock_data.csv'\n",
    "combined_df.to_csv(enhanced_csv, index=False)\n",
    "print(f\"✓ Enhanced data saved to '{enhanced_csv}' ({len(combined_df)} rows). Run eda.ipynb or visualization.ipynb next.\")"
   ]
  },
  {
   "cell_type": "code",
   "execution_count": null,
   "id": "91c831a0-78d9-41ad-b28c-0ca7d238e98a",
   "metadata": {},
   "outputs": [],
   "source": []
  }
 ],
 "metadata": {
  "kernelspec": {
   "display_name": "Python 3 (ipykernel)",
   "language": "python",
   "name": "python3"
  },
  "language_info": {
   "codemirror_mode": {
    "name": "ipython",
    "version": 3
   },
   "file_extension": ".py",
   "mimetype": "text/x-python",
   "name": "python",
   "nbconvert_exporter": "python",
   "pygments_lexer": "ipython3",
   "version": "3.12.7"
  }
 },
 "nbformat": 4,
 "nbformat_minor": 5
}
